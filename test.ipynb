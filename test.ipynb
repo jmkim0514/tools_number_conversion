{
 "cells": [
  {
   "cell_type": "code",
   "execution_count": null,
   "id": "d28de18c",
   "metadata": {},
   "outputs": [],
   "source": []
  },
  {
   "cell_type": "code",
   "execution_count": 121,
   "id": "8169c9b0",
   "metadata": {},
   "outputs": [],
   "source": [
    "file_in = \"imsi.bin\"\n",
    "file_in = \"imsi_0.bin\"\n",
    "file_out = \"imsi.hex\"\n",
    "ptr_in = open(file_in, 'r')\n",
    "ptr_out = open(file_out, 'w')"
   ]
  },
  {
   "cell_type": "code",
   "execution_count": 122,
   "id": "b03fd164",
   "metadata": {},
   "outputs": [],
   "source": [
    "NUM_OF_HEX = 8\n",
    "OBIT = 4*NUM_OF_HEX"
   ]
  },
  {
   "cell_type": "code",
   "execution_count": 123,
   "id": "8745c2c5",
   "metadata": {},
   "outputs": [],
   "source": [
    "def write_file(istr):\n",
    "    \"\"\"input string을 file로 write 하고 남은 string을 return 한다.\n",
    "    \n",
    "    Args: istr\n",
    "    \n",
    "    Return:\n",
    "    \n",
    "    \"\"\"\n",
    "    cnt = 0\n",
    "    print ('=========')\n",
    "    print (istr)\n",
    "    while len(istr)>=OBIT:\n",
    "        print ('--')\n",
    "        out_str = hex(int(istr[-OBIT:], 2))[2:]\n",
    "        print(\"{0:0>{1}}\".format(out_str, NUM_OF_HEX))\n",
    "        ptr_out.write(\"{0:0>{1}}\\n\".format(out_str, NUM_OF_HEX))\n",
    "        istr = istr[:-OBIT]\n",
    "        #print(istr)\n",
    "        cnt = cnt + 1\n",
    "        if cnt>100:\n",
    "            break\n",
    "    return istr\n",
    "    \n",
    "        "
   ]
  },
  {
   "cell_type": "code",
   "execution_count": 124,
   "id": "cfeea4c4",
   "metadata": {},
   "outputs": [
    {
     "name": "stdout",
     "output_type": "stream",
     "text": [
      "=========\n",
      "1111\n",
      "=========\n",
      "11101111\n",
      "=========\n",
      "110111101111\n",
      "=========\n",
      "1100110111101111\n",
      "=========\n",
      "10111100110111101111\n",
      "=========\n",
      "101010111100110111101111\n",
      "=========\n",
      "1001101010111100110111101111\n",
      "=========\n",
      "10001001101010111100110111101111\n",
      "--\n",
      "89abcdef\n",
      "=========\n",
      "0111\n",
      "=========\n",
      "01100111\n",
      "=========\n",
      "010101100111\n",
      "=========\n",
      "0100010101100111\n",
      "=========\n",
      "00110100010101100111\n",
      "=========\n",
      "001000110100010101100111\n",
      "=========\n",
      "0001001000110100010101100111\n",
      "=========\n",
      "00000001001000110100010101100111\n",
      "--\n",
      "01234567\n",
      "=========\n",
      "1111\n",
      "=========\n",
      "11101111\n",
      "=========\n",
      "110111101111\n",
      "=========\n",
      "1100110111101111\n",
      "=========\n",
      "10111100110111101111\n",
      "=========\n",
      "101010111100110111101111\n",
      "=========\n",
      "1001101010111100110111101111\n",
      "=========\n",
      "10001001101010111100110111101111\n",
      "--\n",
      "89abcdef\n",
      "=========\n",
      "0111\n",
      "=========\n",
      "01100111\n",
      "=========\n",
      "010101100111\n",
      "=========\n",
      "0100010101100111\n",
      "=========\n",
      "00110100010101100111\n",
      "=========\n",
      "001000110100010101100111\n",
      "=========\n",
      "0001001000110100010101100111\n",
      "=========\n",
      "00000001001000110100010101100111\n",
      "--\n",
      "01234567\n"
     ]
    }
   ],
   "source": [
    "line = \"\"\n",
    "for line_new in ptr_in.readlines():\n",
    "    \n",
    "    #line_new = ''.join(reversed(line_new))\n",
    "    #line_new = \n",
    "    if line_new.endswith('\\n'):\n",
    "        line_new = line_new[:-1]\n",
    "    \n",
    "    line = line_new + line\n",
    "    \n",
    "    line = write_file(line)\n",
    "    \n",
    "ptr_in.close()\n",
    "ptr_out.close()\n"
   ]
  },
  {
   "cell_type": "code",
   "execution_count": 5,
   "id": "52714918",
   "metadata": {},
   "outputs": [],
   "source": [
    "s = '1'"
   ]
  },
  {
   "cell_type": "code",
   "execution_count": 11,
   "id": "39762166",
   "metadata": {},
   "outputs": [
    {
     "data": {
      "text/plain": [
       "'0001'"
      ]
     },
     "execution_count": 11,
     "metadata": {},
     "output_type": "execute_result"
    }
   ],
   "source": [
    "bin(int(s, 16))[2:].zfill(4)"
   ]
  },
  {
   "cell_type": "code",
   "execution_count": null,
   "id": "91f346b2",
   "metadata": {},
   "outputs": [],
   "source": []
  }
 ],
 "metadata": {
  "kernelspec": {
   "display_name": "Python 3",
   "language": "python",
   "name": "python3"
  },
  "language_info": {
   "codemirror_mode": {
    "name": "ipython",
    "version": 3
   },
   "file_extension": ".py",
   "mimetype": "text/x-python",
   "name": "python",
   "nbconvert_exporter": "python",
   "pygments_lexer": "ipython3",
   "version": "3.8.8"
  }
 },
 "nbformat": 4,
 "nbformat_minor": 5
}
